{
 "cells": [
  {
   "cell_type": "code",
   "execution_count": 39,
   "metadata": {},
   "outputs": [],
   "source": [
    "# Imports\n",
    "import requests\n",
    "import numpy as np\n",
    "import pandas as pd\n",
    "from bs4 import BeautifulSoup\n",
    "import matplotlib.pyplot as plt\n",
    "\n",
    "%matplotlib inline"
   ]
  },
  {
   "cell_type": "markdown",
   "metadata": {},
   "source": [
    "## Exercise\n",
    "\n",
    "Scrape the main table of [UK's Yearly Box Office](https://www.boxofficemojo.com/intl/uk/yearly/) and try to answer the following:\n",
    "1. Which producers have the most films in the top 100? \n",
    "2. Can you find the gross earnings by distributor?\n",
    "\n",
    "[Link to the solutions. Don't cheat!](https://colab.research.google.com/github/nestauk/im-tutorials/blob/3-ysi-tutorial/notebooks/Web-Scraping/solutions.ipynb)"
   ]
  },
  {
   "cell_type": "code",
   "execution_count": 40,
   "metadata": {},
   "outputs": [],
   "source": [
    "# That's the URL you should use\n",
    "url = 'https://www.boxofficemojo.com/intl/uk/yearly/'"
   ]
  },
  {
   "cell_type": "code",
   "execution_count": 41,
   "metadata": {},
   "outputs": [],
   "source": [
    "# Access the webpage content\n",
    "request = requests.get(url)"
   ]
  },
  {
   "cell_type": "code",
   "execution_count": 42,
   "metadata": {},
   "outputs": [],
   "source": [
    "# Parse the HTML page\n",
    "soup = BeautifulSoup(request.text, 'html.parser')"
   ]
  },
  {
   "cell_type": "code",
   "execution_count": 43,
   "metadata": {},
   "outputs": [],
   "source": [
    "# Choose the relevant table\n",
    "table = soup.find_all('table')[0]"
   ]
  },
  {
   "cell_type": "code",
   "execution_count": 48,
   "metadata": {},
   "outputs": [],
   "source": [
    "lst = []\n",
    "header = False\n",
    "\n",
    "for row in table.find_all('tr'):\n",
    "    if not header:\n",
    "        header = True\n",
    "        continue\n",
    "        \n",
    "    s = pd.Series([data.text for data in row.find_all('td')])\n",
    "    lst.append(s)\n"
   ]
  },
  {
   "cell_type": "code",
   "execution_count": 49,
   "metadata": {},
   "outputs": [
    {
     "data": {
      "text/html": [
       "<div>\n",
       "<style scoped>\n",
       "    .dataframe tbody tr th:only-of-type {\n",
       "        vertical-align: middle;\n",
       "    }\n",
       "\n",
       "    .dataframe tbody tr th {\n",
       "        vertical-align: top;\n",
       "    }\n",
       "\n",
       "    .dataframe thead th {\n",
       "        text-align: right;\n",
       "    }\n",
       "</style>\n",
       "<table border=\"1\" class=\"dataframe\">\n",
       "  <thead>\n",
       "    <tr style=\"text-align: right;\">\n",
       "      <th></th>\n",
       "      <th>2023</th>\n",
       "      <th>$1,119,442,948</th>\n",
       "      <th>-</th>\n",
       "      <th>862</th>\n",
       "      <th>$1,298,657</th>\n",
       "      <th>Barbie</th>\n",
       "    </tr>\n",
       "  </thead>\n",
       "  <tbody>\n",
       "    <tr>\n",
       "      <th>1</th>\n",
       "      <td>2022</td>\n",
       "      <td>$1,127,769,400</td>\n",
       "      <td>+58.4%</td>\n",
       "      <td>717</td>\n",
       "      <td>$1,572,900</td>\n",
       "      <td>Top Gun: Maverick</td>\n",
       "    </tr>\n",
       "    <tr>\n",
       "      <th>2</th>\n",
       "      <td>2021</td>\n",
       "      <td>$711,909,602</td>\n",
       "      <td>+75.2%</td>\n",
       "      <td>432</td>\n",
       "      <td>$1,647,938</td>\n",
       "      <td>No Time to Die</td>\n",
       "    </tr>\n",
       "    <tr>\n",
       "      <th>3</th>\n",
       "      <td>2020</td>\n",
       "      <td>$406,382,690</td>\n",
       "      <td>-74.8%</td>\n",
       "      <td>521</td>\n",
       "      <td>$780,005</td>\n",
       "      <td>1917</td>\n",
       "    </tr>\n",
       "    <tr>\n",
       "      <th>4</th>\n",
       "      <td>2019</td>\n",
       "      <td>$1,612,264,840</td>\n",
       "      <td>-5.7%</td>\n",
       "      <td>800</td>\n",
       "      <td>$2,015,331</td>\n",
       "      <td>Avengers: Endgame</td>\n",
       "    </tr>\n",
       "    <tr>\n",
       "      <th>5</th>\n",
       "      <td>2018</td>\n",
       "      <td>$1,709,482,412</td>\n",
       "      <td>+1.1%</td>\n",
       "      <td>730</td>\n",
       "      <td>$2,341,756</td>\n",
       "      <td>Avengers: Infinity War</td>\n",
       "    </tr>\n",
       "  </tbody>\n",
       "</table>\n",
       "</div>"
      ],
      "text/plain": [
       "0  2023  $1,119,442,948       -  862  $1,298,657                  Barbie\n",
       "1  2022  $1,127,769,400  +58.4%  717  $1,572,900       Top Gun: Maverick\n",
       "2  2021    $711,909,602  +75.2%  432  $1,647,938          No Time to Die\n",
       "3  2020    $406,382,690  -74.8%  521    $780,005                    1917\n",
       "4  2019  $1,612,264,840   -5.7%  800  $2,015,331       Avengers: Endgame\n",
       "5  2018  $1,709,482,412   +1.1%  730  $2,341,756  Avengers: Infinity War"
      ]
     },
     "execution_count": 49,
     "metadata": {},
     "output_type": "execute_result"
    }
   ],
   "source": [
    "# Concatenate the data in a Pandas DataFrame and place the first row of the DataFrame as header. Use the .head() method to check your DataFrame.\n",
    "data = pd.concat(lst, axis=1).T\n",
    "new_header = data.iloc[0].str.strip()\n",
    "data = data[1:]\n",
    "data.columns = new_header\n",
    "data.head()"
   ]
  },
  {
   "cell_type": "code",
   "execution_count": 50,
   "metadata": {},
   "outputs": [
    {
     "data": {
      "image/png": "[encoded data removed]",
      "text/plain": [
       "<Figure size 640x480 with 1 Axes>"
      ]
     },
     "metadata": {},
     "output_type": "display_data"
    }
   ],
   "source": [
    "data[data.columns[3]].value_counts().plot(kind='bar')\n",
    "plt.show()"
   ]
  },
  {
   "cell_type": "code",
   "execution_count": 51,
   "metadata": {},
   "outputs": [
    {
     "data": {
      "image/png": "[encoded data removed]",
      "text/plain": [
       "<Figure size 640x480 with 1 Axes>"
      ]
     },
     "metadata": {},
     "output_type": "display_data"
    }
   ],
   "source": [
    "# Q2: Gross earnings by distributors\n",
    "data[data.columns[1]] = data[data.columns[1]].apply(lambda x: int(x[1:].replace(',', '')))\n",
    "\n",
    "data.groupby(data.columns[3])[data.columns[1]].sum().sort_values(ascending=False).plot(kind='bar', title='Gross earning by distributor')\n",
    "\n",
    "plt.show()"
   ]
  },
  {
   "cell_type": "markdown",
   "metadata": {},
   "source": [
    "## Advanced web scraping tools\n",
    "\n",
    "**[Scrapy](https://scrapy.org)** is a Python framework for large scale web scraping. It gives you all the tools you need to efficiently extract data from websites, process them as you want, and store them in your preferred structure and format.\n",
    "\n",
    "**[ARGUS](https://github.com/datawizard1337/ARGUS)** is an easy-to-use web mining tool that's built on Scrapy. It is able to crawl a broad range of different websites.\n",
    "\n",
    "**[Selenium](https://selenium-python.readthedocs.io/index.html)** is an umbrella project encapsulating a variety of tools and libraries enabling web browser automation. Selenium specifically provides infrastructure for the W3C WebDriver specification — a platform and language-neutral coding interface compatible with all major web browsers. We can use it to imitate a user's behaviour and interact with Javascript elements (buttons, sliders etc.).\n",
    "\n",
    "For now, let's see how Selenium works.\n",
    "\n",
    "### How to install Selenium\n",
    "1. If you are using Anaconda: `conda install -c conda-forge selenium `\n",
    "2. Download the driver for your web browser for [here](https://selenium-python.readthedocs.io/installation.html#drivers). **Note:** Choose a driver that corresponds to your web browser's version. Unzip the file and move the executable to your working directory.\n",
    "\n",
    "#### Important note on Selinium and web drivers\n",
    "If you are running this notebook locally, follow the above steps and run the code directly below (change the path to where your web driver is located). If you are running this notebook on colab, skip the next cell and run the one below it.\n",
    "\n",
    "### Scraping data with Selenium\n",
    "We will use [UK's Yearly Box Office](https://www.boxofficemojo.com/intl/uk/yearly/) to scrape not only the top 100 but all the top movies of 2019. This will be our pipeline:\n",
    "\n",
    "<img src='../../figures/Web-Scraping/selenium-pipeline.png' width='1024'>"
   ]
  },
  {
   "cell_type": "code",
   "execution_count": 35,
   "metadata": {},
   "outputs": [],
   "source": [
    "from selenium import webdriver\n",
    "\n",
    "#driver = webdriver.Chrome()\n"
   ]
  },
  {
   "cell_type": "code",
   "execution_count": 36,
   "metadata": {},
   "outputs": [],
   "source": [
    "def html2df(source, q):\n",
    "    \"\"\"A wrapper of the scraping pipeline we used before.\"\"\"\n",
    "    # Parse the HTML page\n",
    "    soup = BeautifulSoup(source, 'html.parser')\n",
    "\n",
    "    # Choose the relevant table\n",
    "    table = soup.find_all('table')[4]\n",
    "\n",
    "    # Parse and store the data of every table row\n",
    "    lst = []\n",
    "    for row in table.find_all('tr'):\n",
    "        s = pd.Series([data.text for data in row.find_all('td')])\n",
    "        lst.append(s)\n",
    "\n",
    "    # Concatenate the data in a Pandas DataFrame and place the first row of the DataFrame as header.\n",
    "    data = pd.concat(lst, axis=1).T\n",
    "\n",
    "    # Grab the first row for the header\n",
    "    new_header = data.iloc[0]\n",
    "\n",
    "    # Take the data less the header row\n",
    "    data = data[1:]\n",
    "\n",
    "    # Set the header row as the df header\n",
    "    data.columns = new_header\n",
    "    \n",
    "    # Add a new column tagging the page we scraped\n",
    "    data['page'] = q \n",
    "    \n",
    "    return data"
   ]
  },
  {
   "cell_type": "code",
   "execution_count": 28,
   "metadata": {},
   "outputs": [],
   "source": [
    "\n",
    "url = 'https://www.boxofficemojo.com/intl/uk/yearly/'"
   ]
  },
  {
   "cell_type": "code",
   "execution_count": 38,
   "metadata": {},
   "outputs": [
    {
     "ename": "AttributeError",
     "evalue": "'WebDriver' object has no attribute 'find_element_by_xpath'",
     "output_type": "error",
     "traceback": [
      "\u001b[1;31m---------------------------------------------------------------------------\u001b[0m",
      "\u001b[1;31mAttributeError\u001b[0m                            Traceback (most recent call last)",
      "\u001b[1;32mc:\\Users\\nmate\\Desktop\\LCiD\\2º Ano\\1º Semestre\\Fundamentos de Engenharia de Dados\\projeto 2\\projeto2.ipynb Cell 15\u001b[0m line \u001b[0;36m1\n\u001b[0;32m      <a href='vscode-notebook-cell:/c%3A/Users/nmate/Desktop/LCiD/2%C2%BA%20Ano/1%C2%BA%20Semestre/Fundamentos%20de%20Engenharia%20de%20Dados/projeto%202/projeto2.ipynb#X24sZmlsZQ%3D%3D?line=6'>7</a>\u001b[0m year \u001b[39m=\u001b[39m \u001b[39mstr\u001b[39m(i)\n\u001b[0;32m      <a href='vscode-notebook-cell:/c%3A/Users/nmate/Desktop/LCiD/2%C2%BA%20Ano/1%C2%BA%20Semestre/Fundamentos%20de%20Engenharia%20de%20Dados/projeto%202/projeto2.ipynb#X24sZmlsZQ%3D%3D?line=8'>9</a>\u001b[0m xpath \u001b[39m=\u001b[39m \u001b[39mf\u001b[39m\u001b[39m\"\u001b[39m\u001b[39mhref=\u001b[39m\u001b[39m'\u001b[39m\u001b[39m/year/2023/?area=GB&ref_=bo_yl_table_1\u001b[39m\u001b[39m'\u001b[39m\u001b[39m'\u001b[39m\u001b[39m{\u001b[39;00myear\u001b[39m}\u001b[39;00m\u001b[39m'\u001b[39m\u001b[39m)]\u001b[39m\u001b[39m\"\u001b[39m\n\u001b[1;32m---> <a href='vscode-notebook-cell:/c%3A/Users/nmate/Desktop/LCiD/2%C2%BA%20Ano/1%C2%BA%20Semestre/Fundamentos%20de%20Engenharia%20de%20Dados/projeto%202/projeto2.ipynb#X24sZmlsZQ%3D%3D?line=9'>10</a>\u001b[0m elem \u001b[39m=\u001b[39m driver\u001b[39m.\u001b[39;49mfind_element_by_xpath(xpath)\n\u001b[0;32m     <a href='vscode-notebook-cell:/c%3A/Users/nmate/Desktop/LCiD/2%C2%BA%20Ano/1%C2%BA%20Semestre/Fundamentos%20de%20Engenharia%20de%20Dados/projeto%202/projeto2.ipynb#X24sZmlsZQ%3D%3D?line=10'>11</a>\u001b[0m elem\u001b[39m.\u001b[39mclick()\n\u001b[0;32m     <a href='vscode-notebook-cell:/c%3A/Users/nmate/Desktop/LCiD/2%C2%BA%20Ano/1%C2%BA%20Semestre/Fundamentos%20de%20Engenharia%20de%20Dados/projeto%202/projeto2.ipynb#X24sZmlsZQ%3D%3D?line=12'>13</a>\u001b[0m lst\u001b[39m.\u001b[39mappend(html2df(driver\u001b[39m.\u001b[39mpage_source, year))\n",
      "\u001b[1;31mAttributeError\u001b[0m: 'WebDriver' object has no attribute 'find_element_by_xpath'"
     ]
    }
   ],
   "source": [
    "driver = webdriver.Chrome()\n",
    "# URL to use in Selenium\n",
    "driver.get(url)\n",
    "\n",
    "lst = []\n",
    "for i in range(2001, 2019):\n",
    "    year = str(i)\n",
    "    \n",
    "    xpath = f\"href='/year/2023/?area=GB&ref_=bo_yl_table_1''{year}')]\"\n",
    "    elem = driver.find_element_by_xpath(xpath)\n",
    "    elem.click()\n",
    "    \n",
    "    lst.append(html2df(driver.page_source, year))\n",
    "\n",
    "annual_top_100 = pd.concat(lst, sort=False)\n",
    "\n"
   ]
  },
  {
   "cell_type": "code",
   "execution_count": null,
   "metadata": {},
   "outputs": [],
   "source": []
  }
 ],
 "metadata": {
  "kernelspec": {
   "display_name": "Python 3",
   "language": "python",
   "name": "python3"
  },
  "language_info": {
   "codemirror_mode": {
    "name": "ipython",
    "version": 3
   },
   "file_extension": ".py",
   "mimetype": "text/x-python",
   "name": "python",
   "nbconvert_exporter": "python",
   "pygments_lexer": "ipython3",
   "version": "3.11.6"
  }
 },
 "nbformat": 4,
 "nbformat_minor": 2
}
