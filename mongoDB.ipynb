{
  "nbformat": 4,
  "nbformat_minor": 0,
  "metadata": {
    "colab": {
      "provenance": [],
      "toc_visible": true
    },
    "kernelspec": {
      "name": "python3",
      "display_name": "Python 3"
    },
    "language_info": {
      "name": "python"
    }
  },
  "cells": [
    {
      "cell_type": "code",
      "execution_count": 38,
      "metadata": {
        "colab": {
          "base_uri": "https://localhost:8080/"
        },
        "id": "thp2as7kn1wY",
        "outputId": "f8708346-d9bc-4ba2-c791-e229307787ca"
      },
      "outputs": [
        {
          "output_type": "stream",
          "name": "stdout",
          "text": [
            "34.106.67.70"
          ]
        }
      ],
      "source": [
        "!curl ipecho.net/plain"
      ]
    },
    {
      "cell_type": "code",
      "source": [
        "!pip install pymongo"
      ],
      "metadata": {
        "colab": {
          "base_uri": "https://localhost:8080/"
        },
        "id": "Vdgoinh42pZa",
        "outputId": "6a76332d-749a-4d7f-cbf8-05bec091708d"
      },
      "execution_count": 39,
      "outputs": [
        {
          "output_type": "stream",
          "name": "stdout",
          "text": [
            "Requirement already satisfied: pymongo in /usr/local/lib/python3.10/dist-packages (4.6.1)\n",
            "Requirement already satisfied: dnspython<3.0.0,>=1.16.0 in /usr/local/lib/python3.10/dist-packages (from pymongo) (2.4.2)\n"
          ]
        }
      ]
    },
    {
      "cell_type": "code",
      "source": [
        "import pymongo\n",
        "from google.colab import userdata\n",
        "import json\n",
        "import pprint"
      ],
      "metadata": {
        "id": "GwxL5nw52p_J"
      },
      "execution_count": 40,
      "outputs": []
    },
    {
      "cell_type": "code",
      "source": [
        "# com secret\n",
        "uri = userdata.get('mongo-uri')\n",
        "client = pymongo.MongoClient(uri)"
      ],
      "metadata": {
        "id": "ih9wAI4v2upc"
      },
      "execution_count": 41,
      "outputs": []
    },
    {
      "cell_type": "code",
      "source": [
        "from google.colab import files\n",
        "uploaded = files.upload()"
      ],
      "metadata": {
        "colab": {
          "base_uri": "https://localhost:8080/",
          "height": 38
        },
        "id": "ZWhvQMHc21D-",
        "outputId": "52406c4d-b81c-4e46-ca30-fc3990493687"
      },
      "execution_count": 42,
      "outputs": [
        {
          "output_type": "display_data",
          "data": {
            "text/plain": [
              "<IPython.core.display.HTML object>"
            ],
            "text/html": [
              "\n",
              "     <input type=\"file\" id=\"files-6fa7610a-9457-4a1e-800a-8228a94fa1de\" name=\"files[]\" multiple disabled\n",
              "        style=\"border:none\" />\n",
              "     <output id=\"result-6fa7610a-9457-4a1e-800a-8228a94fa1de\">\n",
              "      Upload widget is only available when the cell has been executed in the\n",
              "      current browser session. Please rerun this cell to enable.\n",
              "      </output>\n",
              "      <script>// Copyright 2017 Google LLC\n",
              "//\n",
              "// Licensed under the Apache License, Version 2.0 (the \"License\");\n",
              "// you may not use this file except in compliance with the License.\n",
              "// You may obtain a copy of the License at\n",
              "//\n",
              "//      http://www.apache.org/licenses/LICENSE-2.0\n",
              "//\n",
              "// Unless required by applicable law or agreed to in writing, software\n",
              "// distributed under the License is distributed on an \"AS IS\" BASIS,\n",
              "// WITHOUT WARRANTIES OR CONDITIONS OF ANY KIND, either express or implied.\n",
              "// See the License for the specific language governing permissions and\n",
              "// limitations under the License.\n",
              "\n",
              "/**\n",
              " * @fileoverview Helpers for google.colab Python module.\n",
              " */\n",
              "(function(scope) {\n",
              "function span(text, styleAttributes = {}) {\n",
              "  const element = document.createElement('span');\n",
              "  element.textContent = text;\n",
              "  for (const key of Object.keys(styleAttributes)) {\n",
              "    element.style[key] = styleAttributes[key];\n",
              "  }\n",
              "  return element;\n",
              "}\n",
              "\n",
              "// Max number of bytes which will be uploaded at a time.\n",
              "const MAX_PAYLOAD_SIZE = 100 * 1024;\n",
              "\n",
              "function _uploadFiles(inputId, outputId) {\n",
              "  const steps = uploadFilesStep(inputId, outputId);\n",
              "  const outputElement = document.getElementById(outputId);\n",
              "  // Cache steps on the outputElement to make it available for the next call\n",
              "  // to uploadFilesContinue from Python.\n",
              "  outputElement.steps = steps;\n",
              "\n",
              "  return _uploadFilesContinue(outputId);\n",
              "}\n",
              "\n",
              "// This is roughly an async generator (not supported in the browser yet),\n",
              "// where there are multiple asynchronous steps and the Python side is going\n",
              "// to poll for completion of each step.\n",
              "// This uses a Promise to block the python side on completion of each step,\n",
              "// then passes the result of the previous step as the input to the next step.\n",
              "function _uploadFilesContinue(outputId) {\n",
              "  const outputElement = document.getElementById(outputId);\n",
              "  const steps = outputElement.steps;\n",
              "\n",
              "  const next = steps.next(outputElement.lastPromiseValue);\n",
              "  return Promise.resolve(next.value.promise).then((value) => {\n",
              "    // Cache the last promise value to make it available to the next\n",
              "    // step of the generator.\n",
              "    outputElement.lastPromiseValue = value;\n",
              "    return next.value.response;\n",
              "  });\n",
              "}\n",
              "\n",
              "/**\n",
              " * Generator function which is called between each async step of the upload\n",
              " * process.\n",
              " * @param {string} inputId Element ID of the input file picker element.\n",
              " * @param {string} outputId Element ID of the output display.\n",
              " * @return {!Iterable<!Object>} Iterable of next steps.\n",
              " */\n",
              "function* uploadFilesStep(inputId, outputId) {\n",
              "  const inputElement = document.getElementById(inputId);\n",
              "  inputElement.disabled = false;\n",
              "\n",
              "  const outputElement = document.getElementById(outputId);\n",
              "  outputElement.innerHTML = '';\n",
              "\n",
              "  const pickedPromise = new Promise((resolve) => {\n",
              "    inputElement.addEventListener('change', (e) => {\n",
              "      resolve(e.target.files);\n",
              "    });\n",
              "  });\n",
              "\n",
              "  const cancel = document.createElement('button');\n",
              "  inputElement.parentElement.appendChild(cancel);\n",
              "  cancel.textContent = 'Cancel upload';\n",
              "  const cancelPromise = new Promise((resolve) => {\n",
              "    cancel.onclick = () => {\n",
              "      resolve(null);\n",
              "    };\n",
              "  });\n",
              "\n",
              "  // Wait for the user to pick the files.\n",
              "  const files = yield {\n",
              "    promise: Promise.race([pickedPromise, cancelPromise]),\n",
              "    response: {\n",
              "      action: 'starting',\n",
              "    }\n",
              "  };\n",
              "\n",
              "  cancel.remove();\n",
              "\n",
              "  // Disable the input element since further picks are not allowed.\n",
              "  inputElement.disabled = true;\n",
              "\n",
              "  if (!files) {\n",
              "    return {\n",
              "      response: {\n",
              "        action: 'complete',\n",
              "      }\n",
              "    };\n",
              "  }\n",
              "\n",
              "  for (const file of files) {\n",
              "    const li = document.createElement('li');\n",
              "    li.append(span(file.name, {fontWeight: 'bold'}));\n",
              "    li.append(span(\n",
              "        `(${file.type || 'n/a'}) - ${file.size} bytes, ` +\n",
              "        `last modified: ${\n",
              "            file.lastModifiedDate ? file.lastModifiedDate.toLocaleDateString() :\n",
              "                                    'n/a'} - `));\n",
              "    const percent = span('0% done');\n",
              "    li.appendChild(percent);\n",
              "\n",
              "    outputElement.appendChild(li);\n",
              "\n",
              "    const fileDataPromise = new Promise((resolve) => {\n",
              "      const reader = new FileReader();\n",
              "      reader.onload = (e) => {\n",
              "        resolve(e.target.result);\n",
              "      };\n",
              "      reader.readAsArrayBuffer(file);\n",
              "    });\n",
              "    // Wait for the data to be ready.\n",
              "    let fileData = yield {\n",
              "      promise: fileDataPromise,\n",
              "      response: {\n",
              "        action: 'continue',\n",
              "      }\n",
              "    };\n",
              "\n",
              "    // Use a chunked sending to avoid message size limits. See b/62115660.\n",
              "    let position = 0;\n",
              "    do {\n",
              "      const length = Math.min(fileData.byteLength - position, MAX_PAYLOAD_SIZE);\n",
              "      const chunk = new Uint8Array(fileData, position, length);\n",
              "      position += length;\n",
              "\n",
              "      const base64 = btoa(String.fromCharCode.apply(null, chunk));\n",
              "      yield {\n",
              "        response: {\n",
              "          action: 'append',\n",
              "          file: file.name,\n",
              "          data: base64,\n",
              "        },\n",
              "      };\n",
              "\n",
              "      let percentDone = fileData.byteLength === 0 ?\n",
              "          100 :\n",
              "          Math.round((position / fileData.byteLength) * 100);\n",
              "      percent.textContent = `${percentDone}% done`;\n",
              "\n",
              "    } while (position < fileData.byteLength);\n",
              "  }\n",
              "\n",
              "  // All done.\n",
              "  yield {\n",
              "    response: {\n",
              "      action: 'complete',\n",
              "    }\n",
              "  };\n",
              "}\n",
              "\n",
              "scope.google = scope.google || {};\n",
              "scope.google.colab = scope.google.colab || {};\n",
              "scope.google.colab._files = {\n",
              "  _uploadFiles,\n",
              "  _uploadFilesContinue,\n",
              "};\n",
              "})(self);\n",
              "</script> "
            ]
          },
          "metadata": {}
        }
      ]
    },
    {
      "cell_type": "code",
      "source": [
        "db = client['le_mans']\n",
        "collection = db['le_mans']\n"
      ],
      "metadata": {
        "id": "H0YSblvJ27qo"
      },
      "execution_count": 43,
      "outputs": []
    },
    {
      "cell_type": "code",
      "source": [
        "import csv\n",
        "\n",
        "nome_do_arquivo = 'le_mans.csv'\n",
        "\n",
        "dados_csv = []\n",
        "\n",
        "with open(nome_do_arquivo, 'r', newline='', encoding='utf-8') as file:\n",
        "    csv_reader = csv.DictReader(file)\n",
        "    for row in csv_reader:\n",
        "        dados_csv.append(row)\n"
      ],
      "metadata": {
        "id": "Em6eiOeNLBYX"
      },
      "execution_count": 44,
      "outputs": []
    },
    {
      "cell_type": "code",
      "source": [
        "db = client['le_mans']\n",
        "\n",
        "collection = db['le_mans']\n",
        "\n",
        "collection.insert_many(dados_csv)\n"
      ],
      "metadata": {
        "colab": {
          "base_uri": "https://localhost:8080/"
        },
        "id": "NdjImtD2WEbq",
        "outputId": "f4d3d8a7-eb9e-4d75-b7fc-46473c9dbba3"
      },
      "execution_count": 45,
      "outputs": [
        {
          "output_type": "execute_result",
          "data": {
            "text/plain": [
              "InsertManyResult([ObjectId('6596dfaa812216b2ff1d7c3a'), ObjectId('6596dfaa812216b2ff1d7c3b'), ObjectId('6596dfaa812216b2ff1d7c3c'), ObjectId('6596dfaa812216b2ff1d7c3d'), ObjectId('6596dfaa812216b2ff1d7c3e'), ObjectId('6596dfaa812216b2ff1d7c3f'), ObjectId('6596dfaa812216b2ff1d7c40'), ObjectId('6596dfaa812216b2ff1d7c41'), ObjectId('6596dfaa812216b2ff1d7c42'), ObjectId('6596dfaa812216b2ff1d7c43'), ObjectId('6596dfaa812216b2ff1d7c44'), ObjectId('6596dfaa812216b2ff1d7c45'), ObjectId('6596dfaa812216b2ff1d7c46'), ObjectId('6596dfaa812216b2ff1d7c47'), ObjectId('6596dfaa812216b2ff1d7c48'), ObjectId('6596dfaa812216b2ff1d7c49'), ObjectId('6596dfaa812216b2ff1d7c4a'), ObjectId('6596dfaa812216b2ff1d7c4b'), ObjectId('6596dfaa812216b2ff1d7c4c'), ObjectId('6596dfaa812216b2ff1d7c4d'), ObjectId('6596dfaa812216b2ff1d7c4e'), ObjectId('6596dfaa812216b2ff1d7c4f'), ObjectId('6596dfaa812216b2ff1d7c50'), ObjectId('6596dfaa812216b2ff1d7c51'), ObjectId('6596dfaa812216b2ff1d7c52'), ObjectId('6596dfaa812216b2ff1d7c53'), ObjectId('6596dfaa812216b2ff1d7c54'), ObjectId('6596dfaa812216b2ff1d7c55'), ObjectId('6596dfaa812216b2ff1d7c56'), ObjectId('6596dfaa812216b2ff1d7c57'), ObjectId('6596dfaa812216b2ff1d7c58'), ObjectId('6596dfaa812216b2ff1d7c59'), ObjectId('6596dfaa812216b2ff1d7c5a'), ObjectId('6596dfaa812216b2ff1d7c5b'), ObjectId('6596dfaa812216b2ff1d7c5c'), ObjectId('6596dfaa812216b2ff1d7c5d'), ObjectId('6596dfaa812216b2ff1d7c5e'), ObjectId('6596dfaa812216b2ff1d7c5f'), ObjectId('6596dfaa812216b2ff1d7c60'), ObjectId('6596dfaa812216b2ff1d7c61'), ObjectId('6596dfaa812216b2ff1d7c62'), ObjectId('6596dfaa812216b2ff1d7c63'), ObjectId('6596dfaa812216b2ff1d7c64'), ObjectId('6596dfaa812216b2ff1d7c65'), ObjectId('6596dfaa812216b2ff1d7c66'), ObjectId('6596dfaa812216b2ff1d7c67'), ObjectId('6596dfaa812216b2ff1d7c68'), ObjectId('6596dfaa812216b2ff1d7c69'), ObjectId('6596dfaa812216b2ff1d7c6a'), ObjectId('6596dfaa812216b2ff1d7c6b'), ObjectId('6596dfaa812216b2ff1d7c6c'), ObjectId('6596dfaa812216b2ff1d7c6d'), ObjectId('6596dfaa812216b2ff1d7c6e'), ObjectId('6596dfaa812216b2ff1d7c6f'), ObjectId('6596dfaa812216b2ff1d7c70'), ObjectId('6596dfaa812216b2ff1d7c71'), ObjectId('6596dfaa812216b2ff1d7c72'), ObjectId('6596dfaa812216b2ff1d7c73'), ObjectId('6596dfaa812216b2ff1d7c74'), ObjectId('6596dfaa812216b2ff1d7c75'), ObjectId('6596dfaa812216b2ff1d7c76'), ObjectId('6596dfaa812216b2ff1d7c77'), ObjectId('6596dfaa812216b2ff1d7c78'), ObjectId('6596dfaa812216b2ff1d7c79'), ObjectId('6596dfaa812216b2ff1d7c7a'), ObjectId('6596dfaa812216b2ff1d7c7b'), ObjectId('6596dfaa812216b2ff1d7c7c'), ObjectId('6596dfaa812216b2ff1d7c7d'), ObjectId('6596dfaa812216b2ff1d7c7e'), ObjectId('6596dfaa812216b2ff1d7c7f'), ObjectId('6596dfaa812216b2ff1d7c80'), ObjectId('6596dfaa812216b2ff1d7c81'), ObjectId('6596dfaa812216b2ff1d7c82'), ObjectId('6596dfaa812216b2ff1d7c83'), ObjectId('6596dfaa812216b2ff1d7c84'), ObjectId('6596dfaa812216b2ff1d7c85'), ObjectId('6596dfaa812216b2ff1d7c86'), ObjectId('6596dfaa812216b2ff1d7c87'), ObjectId('6596dfaa812216b2ff1d7c88'), ObjectId('6596dfaa812216b2ff1d7c89'), ObjectId('6596dfaa812216b2ff1d7c8a'), ObjectId('6596dfaa812216b2ff1d7c8b'), ObjectId('6596dfaa812216b2ff1d7c8c'), ObjectId('6596dfaa812216b2ff1d7c8d'), ObjectId('6596dfaa812216b2ff1d7c8e'), ObjectId('6596dfaa812216b2ff1d7c8f'), ObjectId('6596dfaa812216b2ff1d7c90'), ObjectId('6596dfaa812216b2ff1d7c91'), ObjectId('6596dfaa812216b2ff1d7c92'), ObjectId('6596dfaa812216b2ff1d7c93'), ObjectId('6596dfaa812216b2ff1d7c94')], acknowledged=True)"
            ]
          },
          "metadata": {},
          "execution_count": 45
        }
      ]
    },
    {
      "cell_type": "code",
      "source": [
        "client.list_database_names()"
      ],
      "metadata": {
        "colab": {
          "base_uri": "https://localhost:8080/"
        },
        "id": "UygdHAryLd4o",
        "outputId": "7e4be404-6783-41d8-a956-513fa2483d90"
      },
      "execution_count": 46,
      "outputs": [
        {
          "output_type": "execute_result",
          "data": {
            "text/plain": [
              "['le_mans',\n",
              " 'nobel_prizes',\n",
              " 'sample_airbnb',\n",
              " 'sample_analytics',\n",
              " 'sample_geospatial',\n",
              " 'sample_guides',\n",
              " 'sample_mflix',\n",
              " 'sample_restaurants',\n",
              " 'sample_supplies',\n",
              " 'sample_training',\n",
              " 'sample_weatherdata',\n",
              " 'admin',\n",
              " 'local']"
            ]
          },
          "metadata": {},
          "execution_count": 46
        }
      ]
    },
    {
      "cell_type": "code",
      "source": [
        "db = client.le_mans\n",
        "db"
      ],
      "metadata": {
        "colab": {
          "base_uri": "https://localhost:8080/"
        },
        "id": "Q7VtKdrUMTK4",
        "outputId": "c88b1cb9-b60e-40de-d57c-ef36a5c20970"
      },
      "execution_count": 47,
      "outputs": [
        {
          "output_type": "execute_result",
          "data": {
            "text/plain": [
              "Database(MongoClient(host=['ac-veczmt6-shard-00-02.mv4icgj.mongodb.net:27017', 'ac-veczmt6-shard-00-00.mv4icgj.mongodb.net:27017', 'ac-veczmt6-shard-00-01.mv4icgj.mongodb.net:27017'], document_class=dict, tz_aware=False, connect=True, retrywrites=True, w='majority', authsource='admin', replicaset='atlas-2ymh00-shard-0', tls=True), 'le_mans')"
            ]
          },
          "metadata": {},
          "execution_count": 47
        }
      ]
    },
    {
      "cell_type": "code",
      "source": [
        "db.list_collection_names()"
      ],
      "metadata": {
        "colab": {
          "base_uri": "https://localhost:8080/"
        },
        "id": "OFPh_XOaMXag",
        "outputId": "dae72d53-79a8-4576-fb0b-03b13c39331d"
      },
      "execution_count": 48,
      "outputs": [
        {
          "output_type": "execute_result",
          "data": {
            "text/plain": [
              "['le_mans']"
            ]
          },
          "metadata": {},
          "execution_count": 48
        }
      ]
    },
    {
      "cell_type": "code",
      "source": [
        "collection = db.le_mans\n",
        "collection"
      ],
      "metadata": {
        "colab": {
          "base_uri": "https://localhost:8080/"
        },
        "id": "DQhzSTkoQ7yR",
        "outputId": "c231db88-2756-4dfa-a2df-b638335ca7c3"
      },
      "execution_count": 49,
      "outputs": [
        {
          "output_type": "execute_result",
          "data": {
            "text/plain": [
              "Collection(Database(MongoClient(host=['ac-veczmt6-shard-00-02.mv4icgj.mongodb.net:27017', 'ac-veczmt6-shard-00-00.mv4icgj.mongodb.net:27017', 'ac-veczmt6-shard-00-01.mv4icgj.mongodb.net:27017'], document_class=dict, tz_aware=False, connect=True, retrywrites=True, w='majority', authsource='admin', replicaset='atlas-2ymh00-shard-0', tls=True), 'le_mans'), 'le_mans')"
            ]
          },
          "metadata": {},
          "execution_count": 49
        }
      ]
    },
    {
      "cell_type": "code",
      "source": [
        "db.le_mans.find_one({})"
      ],
      "metadata": {
        "colab": {
          "base_uri": "https://localhost:8080/"
        },
        "id": "U57hOu17RBaQ",
        "outputId": "ef4ef6f1-74c2-4213-cafd-83f83f533b9d"
      },
      "execution_count": 50,
      "outputs": [
        {
          "output_type": "execute_result",
          "data": {
            "text/plain": [
              "{'_id': ObjectId('6596dfaa812216b2ff1d7c3a'),\n",
              " '': '0',\n",
              " 'Ano': '2023',\n",
              " 'Pilotos': 'James Calado, Antonio Giovinazzi, Alessandro Pier Guidi',\n",
              " 'Equipe': 'Ferrari–AF Corse',\n",
              " 'Carro': 'Ferrari 499P',\n",
              " 'Pneus': 'M',\n",
              " 'Voltas': '342',\n",
              " 'Distância': '4660.1'}"
            ]
          },
          "metadata": {},
          "execution_count": 50
        }
      ]
    },
    {
      "cell_type": "code",
      "source": [
        "db.le_mans.find({})"
      ],
      "metadata": {
        "colab": {
          "base_uri": "https://localhost:8080/"
        },
        "id": "DsGX6YatRG5q",
        "outputId": "e62278c5-1360-44a3-9d6f-66333569d78e"
      },
      "execution_count": 52,
      "outputs": [
        {
          "output_type": "execute_result",
          "data": {
            "text/plain": [
              "<pymongo.cursor.Cursor at 0x7a954005abf0>"
            ]
          },
          "metadata": {},
          "execution_count": 52
        }
      ]
    },
    {
      "cell_type": "code",
      "source": [
        "# vamos iterar o iterator\n",
        "def pretty_print(output_collection, n_to_print=3):\n",
        "    \"\"\"\n",
        "    note if n_to_print is -1, this print everything\n",
        "    \"\"\"\n",
        "    for i, doc in enumerate(output_collection):\n",
        "        pprint.pprint(doc)        # nicely formats each document\n",
        "        if i+1 == n_to_print: return"
      ],
      "metadata": {
        "id": "jT7xCxrsSYwL"
      },
      "execution_count": 53,
      "outputs": []
    },
    {
      "cell_type": "code",
      "source": [
        "output = db.le_mans.find({})\n",
        "pretty_print(output)"
      ],
      "metadata": {
        "colab": {
          "base_uri": "https://localhost:8080/"
        },
        "id": "4rqjITGiSgep",
        "outputId": "17f51e16-5e69-4859-cdfc-7cc1c678b4c7"
      },
      "execution_count": 54,
      "outputs": [
        {
          "output_type": "stream",
          "name": "stdout",
          "text": [
            "{'': '0',\n",
            " 'Ano': '2023',\n",
            " 'Carro': 'Ferrari 499P',\n",
            " 'Distância': '4660.1',\n",
            " 'Equipe': 'Ferrari–AF Corse',\n",
            " 'Pilotos': 'James Calado, Antonio Giovinazzi, Alessandro Pier Guidi',\n",
            " 'Pneus': 'M',\n",
            " 'Voltas': '342',\n",
            " '_id': ObjectId('6596dfaa812216b2ff1d7c3a')}\n",
            "{'': '1',\n",
            " 'Ano': '2022',\n",
            " 'Carro': 'Toyota GR010 Hybrid',\n",
            " 'Distância': '5177.17',\n",
            " 'Equipe': 'Toyota Gazoo Racing',\n",
            " 'Pilotos': 'Sébastien Buemi, Brendon Hartley, Ryo Hirakawa',\n",
            " 'Pneus': 'M',\n",
            " 'Voltas': '380',\n",
            " '_id': ObjectId('6596dfaa812216b2ff1d7c3b')}\n",
            "{'': '2',\n",
            " 'Ano': '2021',\n",
            " 'Carro': 'Toyota GR010 Hybrid',\n",
            " 'Distância': '5054.5',\n",
            " 'Equipe': 'Toyota Gazoo Racing',\n",
            " 'Pilotos': 'Mike Conway, José María López, Kamui Kobayashi',\n",
            " 'Pneus': 'M',\n",
            " 'Voltas': '371',\n",
            " '_id': ObjectId('6596dfaa812216b2ff1d7c3c')}\n"
          ]
        }
      ]
    },
    {
      "cell_type": "code",
      "source": [
        "output = db.le_mans.find({\"$or\": [{\"Ano\": '2003'}]})\n",
        "\n",
        "pretty_print(output, n_to_print=4)"
      ],
      "metadata": {
        "colab": {
          "base_uri": "https://localhost:8080/"
        },
        "id": "FTcRyKRjSlgs",
        "outputId": "2f1b146a-12c6-4622-d40d-efa75c817fda"
      },
      "execution_count": 55,
      "outputs": [
        {
          "output_type": "stream",
          "name": "stdout",
          "text": [
            "{'': '20',\n",
            " 'Ano': '2003',\n",
            " 'Carro': 'Bentley Speed 8',\n",
            " 'Distância': '5146.05',\n",
            " 'Equipe': 'Team Bentley',\n",
            " 'Pilotos': 'Tom Kristensen, Rinaldo Capello, Guy Smith',\n",
            " 'Pneus': 'M',\n",
            " 'Voltas': '377',\n",
            " '_id': ObjectId('6596dfaa812216b2ff1d7c4e')}\n"
          ]
        }
      ]
    },
    {
      "cell_type": "code",
      "source": [],
      "metadata": {
        "id": "nbOfz_hJVM7w"
      },
      "execution_count": null,
      "outputs": []
    },
    {
      "cell_type": "code",
      "source": [
        "from google.colab import drive\n",
        "drive.mount('/content/drive')"
      ],
      "metadata": {
        "id": "YO5x77W-ZMVb"
      },
      "execution_count": null,
      "outputs": []
    }
  ]
}